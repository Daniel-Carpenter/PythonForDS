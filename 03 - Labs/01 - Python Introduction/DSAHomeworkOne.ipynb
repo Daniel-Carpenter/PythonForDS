{
 "cells": [
  {
   "cell_type": "markdown",
   "id": "b39d5584",
   "metadata": {},
   "source": [
    "# Homework 1\n",
    "\n",
    "> Daniel Carpenter"
   ]
  },
  {
   "cell_type": "code",
   "execution_count": 1,
   "id": "d052b942",
   "metadata": {},
   "outputs": [],
   "source": [
    "\"\"\"\n",
    "Purpose of File - Function that:\n",
    "    1. Calculates the cost/square footage of a house given user input\n",
    "    2. File will also compare to the standard cost/sq. ft. of a house\n",
    "\"\"\"\n",
    "\n",
    "def sqFtComparisonTool():\n",
    "\n",
    "    print(\"--- This tool will compare your home's cost/sq. ft. to the standard cost ---\")\n",
    "    \n",
    "    # Require user input of price\n",
    "    housePrice = float(input(\"Please enter the price of your home\"))\n",
    "    \n",
    "    # Require user input of square footage\n",
    "    houseSqFt = float(input(\"Please enter the total square footage of your home\"))\n",
    "    \n",
    "    # Create a function to calculate price per square foot of a house:\n",
    "    def calcPricePerSqFt(housePrice, houseSqFt):\n",
    "        \n",
    "        if houseSqFt > 0: # div/0 check\n",
    "            return housePrice / houseSqFt\n",
    "        else:\n",
    "            print('Please enter a value greatr than 0 for house sq. ft.')\n",
    "    \n",
    "    # Print the cost per square foot\n",
    "    pricePerSqFt = calcPricePerSqFt(housePrice, houseSqFt)\n",
    "    print('Your house is $', pricePerSqFt, 'per sq. ft.')\n",
    "    \n",
    "    # Create a variable called Standard and set to 125.0\n",
    "    Standard = 125\n",
    "    print('\\nThe standard for a house is $', Standard, 'per sq. ft.')\n",
    "    \n",
    "    # Compare the result with a Standard\n",
    "    ## if the cost is less, print a positive response\n",
    "    if Standard > pricePerSqFt:\n",
    "        print('Look at you go! You got a deal for your house.')\n",
    "    \n",
    "    ## if the cost is more, print a negative response\n",
    "    elif Standard < pricePerSqFt:\n",
    "        print('Unfortunately the cost per square footage of your home is greater than the standard cost.')\n",
    "    \n",
    "    ## Else the cost is the same\n",
    "    else:\n",
    "        print('Cost per Square Foot is the same as the standard.')"
   ]
  },
  {
   "cell_type": "markdown",
   "id": "b46197c7",
   "metadata": {},
   "source": [
    "## Example of Less than"
   ]
  },
  {
   "cell_type": "code",
   "execution_count": 6,
   "id": "95c94497",
   "metadata": {},
   "outputs": [
    {
     "name": "stdout",
     "output_type": "stream",
     "text": [
      "--- This tool will compare your home's cost/sq. ft. to the standard cost ---\n",
      "Please enter the price of your home300000\n",
      "Please enter the total square footage of your home4000\n",
      "Your house is $ 75.0 per sq. ft.\n",
      "\n",
      "The standard for a house is $ 125 per sq. ft.\n",
      "Look at you go! You got a deal for your house.\n"
     ]
    }
   ],
   "source": [
    "sqFtComparisonTool()"
   ]
  },
  {
   "cell_type": "markdown",
   "id": "efeecefa",
   "metadata": {},
   "source": [
    "## Example of greater than"
   ]
  },
  {
   "cell_type": "code",
   "execution_count": 7,
   "id": "9a6ea33e",
   "metadata": {},
   "outputs": [
    {
     "name": "stdout",
     "output_type": "stream",
     "text": [
      "--- This tool will compare your home's cost/sq. ft. to the standard cost ---\n",
      "Please enter the price of your home150000\n",
      "Please enter the total square footage of your home1000\n",
      "Your house is $ 150.0 per sq. ft.\n",
      "\n",
      "The standard for a house is $ 125 per sq. ft.\n",
      "Unfortunately the cost per square footage of your home is greater than the standard cost.\n"
     ]
    }
   ],
   "source": [
    "sqFtComparisonTool()"
   ]
  },
  {
   "cell_type": "markdown",
   "id": "a1e4ee56",
   "metadata": {},
   "source": [
    "## Example of the same"
   ]
  },
  {
   "cell_type": "code",
   "execution_count": 9,
   "id": "372e2e5d",
   "metadata": {},
   "outputs": [
    {
     "name": "stdout",
     "output_type": "stream",
     "text": [
      "--- This tool will compare your home's cost/sq. ft. to the standard cost ---\n",
      "Please enter the price of your home125000\n",
      "Please enter the total square footage of your home1000\n",
      "Your house is $ 125.0 per sq. ft.\n",
      "\n",
      "The standard for a house is $ 125 per sq. ft.\n",
      "Cost per Square Foot is the same as the standard.\n"
     ]
    }
   ],
   "source": [
    "sqFtComparisonTool()"
   ]
  }
 ],
 "metadata": {
  "kernelspec": {
   "display_name": "Python 3 (ipykernel)",
   "language": "python",
   "name": "python3"
  },
  "language_info": {
   "codemirror_mode": {
    "name": "ipython",
    "version": 3
   },
   "file_extension": ".py",
   "mimetype": "text/x-python",
   "name": "python",
   "nbconvert_exporter": "python",
   "pygments_lexer": "ipython3",
   "version": "3.9.7"
  }
 },
 "nbformat": 4,
 "nbformat_minor": 5
}
