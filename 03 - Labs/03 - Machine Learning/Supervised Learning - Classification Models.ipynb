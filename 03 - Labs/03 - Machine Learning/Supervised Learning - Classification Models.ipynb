{
 "cells": [
  {
   "cell_type": "markdown",
   "id": "e772ed04",
   "metadata": {},
   "source": [
    "# Lab 3 - Machine Learning with `sklearn`\n",
    "*Testing Performance of Models to Read Hand Written Notes*\n",
    "\n",
    "**Author**: Daniel Carpenter\n"
   ]
  },
  {
   "cell_type": "markdown",
   "id": "50447fb8",
   "metadata": {},
   "source": [
    "## `sklearn` and other Packages"
   ]
  },
  {
   "cell_type": "code",
   "execution_count": 1,
   "id": "79cdf19f",
   "metadata": {},
   "outputs": [],
   "source": [
    "# Import packages\n",
    "import numpy as np\n",
    "import pandas as pd\n",
    "import sklearn\n",
    "\n",
    "\n",
    "from sklearn.datasets import fetch_openml\n",
    "from sklearn import datasets, metrics\n",
    "from sklearn.utils import check_random_state\n",
    "from sklearn.model_selection import train_test_split\n"
   ]
  },
  {
   "cell_type": "markdown",
   "id": "fcfc2359",
   "metadata": {},
   "source": [
    "## Import Data - Handwritten Numbers\n",
    "* Note for later ML models, uses 66% of dataset to train models"
   ]
  },
  {
   "cell_type": "code",
   "execution_count": 2,
   "id": "bb7aa028",
   "metadata": {},
   "outputs": [],
   "source": [
    "# =============================================================================\n",
    "# GET DATA\n",
    "# See more info from here https://www.openml.org/d/554\n",
    "# =============================================================================\n",
    "\n",
    "# Data consists of hand written letters \n",
    "digits = datasets.load_digits()\n",
    "\n",
    "# Data Transformation\n",
    "X = digits.data / 255 # normalize between 0 and 1 - can improve performance\n",
    "\n",
    "y = digits.target\n",
    "\n",
    "# Percentage of sample to use in the test set\n",
    "percSampleToUse = 0.66 \n",
    "\n",
    "# Make the training and test samples\n",
    "X_train, X_test, y_train, y_test = train_test_split(X, y, \n",
    "                                                    test_size=percSampleToUse, \n",
    "                                                    random_state=9999)\n"
   ]
  },
  {
   "cell_type": "markdown",
   "id": "f117b699",
   "metadata": {},
   "source": [
    "## Exlore and Visualize Data\n",
    "* Create a simple function to visualize what the hand written letter \"looks\" like in the data\n",
    "* Show a few different letters in the data using a heatmap with `seaborn` package\n",
    "* Note that the data is normalized from 0 to 1"
   ]
  },
  {
   "cell_type": "code",
   "execution_count": 3,
   "id": "bf77f3bc",
   "metadata": {},
   "outputs": [],
   "source": [
    "# Simple function to show some handwritten numeric observations\n",
    "\n",
    "def showNumber(df, numberObsNum = 0):\n",
    "        \n",
    "    # What does one sample number look like in the data?\n",
    "    # -----------------------------------------------------------------------------\n",
    "    sampleNumber = df[numberObsNum][:]\n",
    "    \n",
    "    NUM_ROWS_COLS = 8\n",
    "    sampleOut = np.reshape(sampleNumber, (NUM_ROWS_COLS, NUM_ROWS_COLS))\n",
    "    \n",
    "    # Convert to DataFrame\n",
    "    df_SampleNumber = pd.DataFrame(sampleOut)\n",
    "    \n",
    "    print('Here is what the number looks like with raw data (After putting in a 8x8 matrix): \\n\\n',\n",
    "          df_SampleNumber)\n",
    "    \n",
    "    \n",
    "    # How does it look like in a heat map perspective?\n",
    "    # -----------------------------------------------------------------------------\n",
    "    \n",
    "    # Show a heatmap of the data\n",
    "    import matplotlib.pyplot as plt\n",
    "    import seaborn as sns\n",
    "    \n",
    "    # Create the plot and heatmap\n",
    "    fig, ax = plt.subplots(figsize=(11, 9))\n",
    "    ax = sns.heatmap(df_SampleNumber, cmap=\"Blues\")\n",
    "    \n",
    "    # Add some styles and guides\n",
    "    sns.set_style(\"whitegrid\")\n",
    "    plt.title('How the handwritten number appears in data\\n One handwritten numeric observation of the MNIST Dataset\\n')\n",
    "    \n",
    "    # The Axis'\n",
    "    ax.set(ylabel = '\"Rows\" of Data')\n",
    "    ax.set(xlabel = '\"Columns\" of Data')\n",
    "    \n",
    "    # Print and Show\n",
    "    print('Note how the data looks like when putting it in a heatmap\\n\\n' )\n",
    "    plt.show()\n"
   ]
  },
  {
   "cell_type": "markdown",
   "id": "8aa0b7ff",
   "metadata": {},
   "source": [
    "### Example of Possible Number: `2`"
   ]
  },
  {
   "cell_type": "code",
   "execution_count": 4,
   "id": "2973e803",
   "metadata": {},
   "outputs": [
    {
     "name": "stdout",
     "output_type": "stream",
     "text": [
      "Here is what the number looks like with raw data (After putting in a 8x8 matrix): \n",
      "\n",
      "      0         1         2         3         4         5         6    7\n",
      "0  0.0  0.000000  0.000000  0.019608  0.054902  0.047059  0.007843  0.0\n",
      "1  0.0  0.000000  0.027451  0.058824  0.031373  0.054902  0.015686  0.0\n",
      "2  0.0  0.000000  0.023529  0.007843  0.011765  0.050980  0.003922  0.0\n",
      "3  0.0  0.000000  0.000000  0.003922  0.050980  0.015686  0.000000  0.0\n",
      "4  0.0  0.000000  0.003922  0.043137  0.035294  0.000000  0.000000  0.0\n",
      "5  0.0  0.031373  0.062745  0.050980  0.000000  0.000000  0.000000  0.0\n",
      "6  0.0  0.019608  0.054902  0.062745  0.043137  0.007843  0.000000  0.0\n",
      "7  0.0  0.000000  0.000000  0.023529  0.047059  0.050980  0.011765  0.0\n",
      "Note how the data looks like when putting it in a heatmap\n",
      "\n",
      "\n"
     ]
    },
    {
     "data": {
      "image/png": "[encoded data removed]",
      "text/plain": [
       "<Figure size 792x648 with 2 Axes>"
      ]
     },
     "metadata": {
      "needs_background": "light"
     },
     "output_type": "display_data"
    }
   ],
   "source": [
    "# Possible number: 2\n",
    "showNumber(df=X, numberObsNum=50)\n"
   ]
  },
  {
   "cell_type": "markdown",
   "id": "afe4edbf",
   "metadata": {},
   "source": [
    "### Example of Possible Number: `9`"
   ]
  },
  {
   "cell_type": "code",
   "execution_count": 5,
   "id": "eb4fc904",
   "metadata": {},
   "outputs": [
    {
     "name": "stdout",
     "output_type": "stream",
     "text": [
      "Here is what the number looks like with raw data (After putting in a 8x8 matrix): \n",
      "\n",
      "      0    1         2         3         4         5         6    7\n",
      "0  0.0  0.0  0.003922  0.050980  0.039216  0.003922  0.000000  0.0\n",
      "1  0.0  0.0  0.047059  0.023529  0.027451  0.039216  0.000000  0.0\n",
      "2  0.0  0.0  0.039216  0.039216  0.043137  0.058824  0.000000  0.0\n",
      "3  0.0  0.0  0.003922  0.054902  0.062745  0.062745  0.019608  0.0\n",
      "4  0.0  0.0  0.000000  0.000000  0.000000  0.039216  0.039216  0.0\n",
      "5  0.0  0.0  0.000000  0.000000  0.000000  0.019608  0.043137  0.0\n",
      "6  0.0  0.0  0.007843  0.015686  0.015686  0.054902  0.043137  0.0\n",
      "7  0.0  0.0  0.007843  0.043137  0.058824  0.062745  0.019608  0.0\n",
      "Note how the data looks like when putting it in a heatmap\n",
      "\n",
      "\n"
     ]
    },
    {
     "data": {
      "image/png": "[encoded data removed]",
      "text/plain": [
       "<Figure size 792x648 with 2 Axes>"
      ]
     },
     "metadata": {},
     "output_type": "display_data"
    }
   ],
   "source": [
    "# Possible number: 9\n",
    "showNumber(df=X, numberObsNum=1616)\n"
   ]
  },
  {
   "cell_type": "markdown",
   "id": "4992b451",
   "metadata": {},
   "source": [
    "### Example of Possible Number: `6`"
   ]
  },
  {
   "cell_type": "code",
   "execution_count": 6,
   "id": "cbeea514",
   "metadata": {},
   "outputs": [
    {
     "name": "stdout",
     "output_type": "stream",
     "text": [
      "Here is what the number looks like with raw data (After putting in a 8x8 matrix): \n",
      "\n",
      "      0         1         2         3         4         5         6    7\n",
      "0  0.0  0.000000  0.011765  0.054902  0.011765  0.000000  0.000000  0.0\n",
      "1  0.0  0.000000  0.050980  0.050980  0.000000  0.000000  0.000000  0.0\n",
      "2  0.0  0.000000  0.062745  0.027451  0.000000  0.000000  0.000000  0.0\n",
      "3  0.0  0.019608  0.062745  0.011765  0.000000  0.000000  0.000000  0.0\n",
      "4  0.0  0.011765  0.062745  0.027451  0.015686  0.007843  0.000000  0.0\n",
      "5  0.0  0.015686  0.062745  0.062745  0.062745  0.062745  0.027451  0.0\n",
      "6  0.0  0.003922  0.054902  0.058824  0.015686  0.043137  0.058824  0.0\n",
      "7  0.0  0.000000  0.019608  0.054902  0.062745  0.047059  0.023529  0.0\n",
      "Note how the data looks like when putting it in a heatmap\n",
      "\n",
      "\n"
     ]
    },
    {
     "data": {
      "image/png": "[encoded data removed]",
      "text/plain": [
       "<Figure size 792x648 with 2 Axes>"
      ]
     },
     "metadata": {},
     "output_type": "display_data"
    }
   ],
   "source": [
    "# Possible number: 6\n",
    "showNumber(df=X, numberObsNum=212)\n"
   ]
  },
  {
   "cell_type": "markdown",
   "id": "4aa33752",
   "metadata": {},
   "source": [
    "### Example of Possible Number: `3`"
   ]
  },
  {
   "cell_type": "code",
   "execution_count": 7,
   "id": "88e0927b",
   "metadata": {},
   "outputs": [
    {
     "name": "stdout",
     "output_type": "stream",
     "text": [
      "Here is what the number looks like with raw data (After putting in a 8x8 matrix): \n",
      "\n",
      "      0         1         2         3         4         5         6    7\n",
      "0  0.0  0.000000  0.035294  0.062745  0.062745  0.047059  0.007843  0.0\n",
      "1  0.0  0.011765  0.050980  0.019608  0.015686  0.054902  0.019608  0.0\n",
      "2  0.0  0.000000  0.000000  0.000000  0.027451  0.058824  0.007843  0.0\n",
      "3  0.0  0.000000  0.000000  0.019608  0.062745  0.043137  0.000000  0.0\n",
      "4  0.0  0.000000  0.000000  0.000000  0.031373  0.062745  0.027451  0.0\n",
      "5  0.0  0.000000  0.000000  0.000000  0.000000  0.050980  0.031373  0.0\n",
      "6  0.0  0.000000  0.015686  0.019608  0.019608  0.058824  0.015686  0.0\n",
      "7  0.0  0.000000  0.047059  0.062745  0.058824  0.019608  0.000000  0.0\n",
      "Note how the data looks like when putting it in a heatmap\n",
      "\n",
      "\n"
     ]
    },
    {
     "data": {
      "image/png": "[encoded data removed]",
      "text/plain": [
       "<Figure size 792x648 with 2 Axes>"
      ]
     },
     "metadata": {},
     "output_type": "display_data"
    }
   ],
   "source": [
    "# Possible number: 3\n",
    "showNumber(df=X, numberObsNum=1300)\n"
   ]
  },
  {
   "cell_type": "markdown",
   "id": "656a74c5",
   "metadata": {},
   "source": [
    "### Example of Possible Number: `3` Again"
   ]
  },
  {
   "cell_type": "code",
   "execution_count": 8,
   "id": "5197b90f",
   "metadata": {},
   "outputs": [
    {
     "name": "stdout",
     "output_type": "stream",
     "text": [
      "Here is what the number looks like with raw data (After putting in a 8x8 matrix): \n",
      "\n",
      "      0         1         2         3         4         5         6    7\n",
      "0  0.0  0.000000  0.035294  0.058824  0.054902  0.007843  0.000000  0.0\n",
      "1  0.0  0.000000  0.035294  0.011765  0.035294  0.031373  0.000000  0.0\n",
      "2  0.0  0.000000  0.000000  0.000000  0.023529  0.039216  0.000000  0.0\n",
      "3  0.0  0.000000  0.000000  0.039216  0.058824  0.007843  0.000000  0.0\n",
      "4  0.0  0.000000  0.007843  0.039216  0.043137  0.058824  0.007843  0.0\n",
      "5  0.0  0.011765  0.003922  0.000000  0.000000  0.054902  0.015686  0.0\n",
      "6  0.0  0.039216  0.050980  0.027451  0.007843  0.047059  0.015686  0.0\n",
      "7  0.0  0.000000  0.027451  0.054902  0.062745  0.039216  0.000000  0.0\n",
      "Note how the data looks like when putting it in a heatmap\n",
      "\n",
      "\n"
     ]
    },
    {
     "data": {
      "image/png": "[encoded data removed]",
      "text/plain": [
       "<Figure size 792x648 with 2 Axes>"
      ]
     },
     "metadata": {},
     "output_type": "display_data"
    }
   ],
   "source": [
    "# Possible number: Another 3\n",
    "showNumber(df=X, numberObsNum=999)\n"
   ]
  },
  {
   "cell_type": "markdown",
   "id": "7e4af24a",
   "metadata": {},
   "source": [
    "## Fit ML Classifier Models - Supervised Machine Learning\n",
    "> Goal is to use sample hand written letters to read and predict more letters"
   ]
  },
  {
   "cell_type": "markdown",
   "id": "84e6a480",
   "metadata": {},
   "source": [
    "### Simple Function to Measure the Time to Execute Modeling"
   ]
  },
  {
   "cell_type": "code",
   "execution_count": 9,
   "id": "d091a0a3",
   "metadata": {},
   "outputs": [],
   "source": [
    "import time\n",
    "\n",
    "def startClock():\n",
    "    return time.time()\n",
    "\n",
    "def endClock(start_time, name):\n",
    "    print(\"\\nTime to\", name, \": %g\" % (time.time() - start_time))"
   ]
  },
  {
   "cell_type": "markdown",
   "id": "70797f8f",
   "metadata": {},
   "source": [
    "### `1` Naive Bayes"
   ]
  },
  {
   "cell_type": "code",
   "execution_count": 10,
   "id": "40429b1c",
   "metadata": {},
   "outputs": [
    {
     "name": "stdout",
     "output_type": "stream",
     "text": [
      "\n",
      "Time to Train : 0.00554276\n",
      "\n",
      "Time to Test : 0.00848961\n",
      "\n",
      "Naive Bayes Training Score: 0.9197\n",
      "Naive Bayes Test Score: 0.8391\n",
      "Confusion Matrix\n",
      " [[119   0   0   0   3   2   0   0   0   0]\n",
      " [  0  86   0   0   1   1   1   1  14   9]\n",
      " [  0   3  83   4   0   0   2   0  32   0]\n",
      " [  0   0   5  97   0   3   1   4  10   1]\n",
      " [  0   1   0   0  89   2   0   8   6   0]\n",
      " [  0   0   0   3   0 101   0   4   1  10]\n",
      " [  0   0   0   0   0   2 122   0   0   0]\n",
      " [  0   0   0   0   2   1   0 107   3   1]\n",
      " [  0   5   0   1   0   6   0   1  98   0]\n",
      " [  0   1   4   3   0   7   1   8  13  94]]\n"
     ]
    }
   ],
   "source": [
    "# =============================================================================\n",
    "# Fit Classifier Models\n",
    "# =============================================================================\n",
    "\n",
    "# 1 - Naive Bayes \n",
    "# -----------------------------------------------------------------------------\n",
    "\n",
    "# 0 - Import the classifer\n",
    "from sklearn.naive_bayes import GaussianNB\n",
    "from sklearn.metrics import accuracy_score\n",
    "\n",
    "# 1. Initialize the classifier\n",
    "gnb = GaussianNB()\n",
    "\n",
    "# 2. Train (fit) the classifier\n",
    "start_time = startClock()\n",
    "model = gnb.fit(X_train, y_train)\n",
    "endClock(start_time, 'Train')\n",
    "\n",
    "# 3. Make predictions\n",
    "start_time = startClock()\n",
    "preds = gnb.predict(X_test)\n",
    "endClock(start_time, 'Test')\n",
    "\n",
    "# 4. Evaluate accuracy\n",
    "print('\\nNaive Bayes Training Score: {:,.4f}'.format( gnb.score(X_train, y_train) ))\n",
    "print('Naive Bayes Test Score: {:,.4f}'.format( gnb.score(X_test, y_test) ))\n",
    "# 5. Interprest false and true positives\n",
    "expected  = y_test\n",
    "predicted = preds\n",
    "print('Confusion Matrix\\n', sklearn.metrics.confusion_matrix(expected, predicted))\n"
   ]
  },
  {
   "cell_type": "markdown",
   "id": "741f31df",
   "metadata": {},
   "source": [
    "### `2` Random Forest"
   ]
  },
  {
   "cell_type": "code",
   "execution_count": 11,
   "id": "cf418b84",
   "metadata": {},
   "outputs": [
    {
     "name": "stdout",
     "output_type": "stream",
     "text": [
      "\n",
      "Time to Train : 0.539184\n",
      "\n",
      "Time to Test : 0.0755911\n",
      "\n",
      "Random Forest Training Score: 1.0000\n",
      "Random Forest Test Score: 0.9469\n",
      "Confusion Matrix\n",
      " [[122   0   0   0   2   0   0   0   0   0]\n",
      " [  0 111   0   1   0   0   0   0   0   1]\n",
      " [  0   0 122   0   0   0   0   0   2   0]\n",
      " [  0   0   0 106   0   2   0   3   7   3]\n",
      " [  0   2   0   0 101   0   0   2   1   0]\n",
      " [  0   0   0   1   1 113   1   0   0   3]\n",
      " [  1   0   0   0   0   1 122   0   0   0]\n",
      " [  0   0   0   0   0   0   0 113   1   0]\n",
      " [  0   5   2   0   0   2   0   0 101   1]\n",
      " [  0   3   0   5   0   2   0   3   5 113]]\n"
     ]
    }
   ],
   "source": [
    "# 2 - Random Forest \n",
    "# -----------------------------------------------------------------------------\n",
    "\n",
    "# 0 - Import the classifer\n",
    "from sklearn.ensemble import RandomForestClassifier \n",
    "\n",
    "# 1. Initialize the classifier\n",
    "forest = RandomForestClassifier(n_estimators = 100)\n",
    "\n",
    "# 2. Train (fit) the classifier\n",
    "start_time = startClock()\n",
    "forest.fit(X_train, y_train)\n",
    "endClock(start_time, 'Train')\n",
    "\n",
    "# 3. Make predictions\n",
    "start_time = startClock()\n",
    "predictions = forest.predict(X_test)\n",
    "endClock(start_time, 'Test')\n",
    "\n",
    "# 4. Evaluate accuracy\n",
    "print('\\nRandom Forest Training Score: {:,.4f}'.format( forest.score(X_train, y_train) ))\n",
    "print('Random Forest Test Score: {:,.4f}'.format( forest.score(X_test, y_test) ))\n",
    "\n",
    "# 5. Interprest false and true positives\n",
    "expected  = y_test\n",
    "predicted = predictions\n",
    "print('Confusion Matrix\\n', sklearn.metrics.confusion_matrix(expected, predicted))\n"
   ]
  },
  {
   "cell_type": "markdown",
   "id": "f6ebe5c2",
   "metadata": {},
   "source": [
    "### `3` KNN (K-Nearest Neighbors)"
   ]
  },
  {
   "cell_type": "code",
   "execution_count": 12,
   "id": "a33da6be",
   "metadata": {},
   "outputs": [
    {
     "name": "stdout",
     "output_type": "stream",
     "text": [
      "\n",
      "Time to Test & Train : 0.00315356\n",
      "\n",
      "KNN Accuracy Score: 0.9933\n"
     ]
    }
   ],
   "source": [
    "# 3 - K-Nearest Neighbors\n",
    "# -----------------------------------------------------------------------------\n",
    "\n",
    "# 0 - Import the classifer\n",
    "from sklearn.neighbors import KNeighborsClassifier\n",
    "\n",
    "# 1. Initialize the classifier\n",
    "neigh = KNeighborsClassifier(n_neighbors=3)\n",
    "\n",
    "# 2. Train (fit) the classifier (3. predictions made in this step too)\n",
    "start_time = startClock()\n",
    "neigh.fit(X, y)\n",
    "endClock(start_time, 'Test & Train')\n",
    "\n",
    "# 4. Evaluate accuracy - note does test and train at same time (hence greedy)\n",
    "print('\\nKNN Accuracy Score: {:,.4f}'.format( neigh.score(X, y) ))\n"
   ]
  },
  {
   "cell_type": "markdown",
   "id": "b42e93e9",
   "metadata": {},
   "source": [
    "### `4` Multi-Linear Perceptron using SGD"
   ]
  },
  {
   "cell_type": "code",
   "execution_count": 13,
   "id": "2336b96f",
   "metadata": {},
   "outputs": [
    {
     "name": "stdout",
     "output_type": "stream",
     "text": [
      "Iteration 1, loss = 2.30517707\n",
      "Iteration 2, loss = 2.30239673\n",
      "Iteration 3, loss = 2.29936229\n",
      "Iteration 4, loss = 2.29575699\n",
      "Iteration 5, loss = 2.29135455\n",
      "Iteration 6, loss = 2.28616264\n",
      "Iteration 7, loss = 2.28274996\n",
      "Iteration 8, loss = 2.28201986\n",
      "Iteration 9, loss = 2.28395448\n",
      "Iteration 10, loss = 2.27393388\n",
      "Iteration 11, loss = 2.26543776\n",
      "Iteration 12, loss = 2.25792942\n",
      "Iteration 13, loss = 2.25653326\n",
      "Iteration 14, loss = 2.25713101\n",
      "Iteration 15, loss = 2.24310935\n",
      "Iteration 16, loss = 2.23313753\n",
      "Iteration 17, loss = 2.22877945\n",
      "Iteration 18, loss = 2.22673420\n",
      "Iteration 19, loss = 2.22740286\n",
      "Iteration 20, loss = 2.20803298\n",
      "Iteration 21, loss = 2.19006124\n",
      "Iteration 22, loss = 2.18013367\n",
      "Iteration 23, loss = 2.17375135\n",
      "Iteration 24, loss = 2.16434137\n",
      "Iteration 25, loss = 2.15350407\n",
      "Iteration 26, loss = 2.13615914\n",
      "Iteration 27, loss = 2.11876977\n",
      "Iteration 28, loss = 2.10468269\n",
      "Iteration 29, loss = 2.09380080\n",
      "Iteration 30, loss = 2.07297024\n",
      "Iteration 31, loss = 2.04686767\n",
      "Iteration 32, loss = 2.02101887\n",
      "Iteration 33, loss = 1.99881994\n",
      "Iteration 34, loss = 1.96929237\n",
      "Iteration 35, loss = 1.94760667\n",
      "Iteration 36, loss = 1.92548072\n",
      "Iteration 37, loss = 1.90504137\n",
      "Iteration 38, loss = 1.86176411\n",
      "Iteration 39, loss = 1.83990660\n",
      "Iteration 40, loss = 1.80146953\n",
      "Iteration 41, loss = 1.77362590\n",
      "Iteration 42, loss = 1.75003339\n",
      "Iteration 43, loss = 1.71858057\n",
      "Iteration 44, loss = 1.69180637\n",
      "Iteration 45, loss = 1.67696181\n",
      "Iteration 46, loss = 1.62154270\n",
      "Iteration 47, loss = 1.58915206\n",
      "Iteration 48, loss = 1.55116034\n",
      "Iteration 49, loss = 1.52121024\n",
      "Iteration 50, loss = 1.47649553\n",
      "Iteration 51, loss = 1.44853042\n",
      "Iteration 52, loss = 1.42108079\n",
      "Iteration 53, loss = 1.40662083\n",
      "Iteration 54, loss = 1.35266133\n",
      "Iteration 55, loss = 1.31809671\n",
      "Iteration 56, loss = 1.29602322\n",
      "Iteration 57, loss = 1.29196140\n",
      "Iteration 58, loss = 1.22924987\n",
      "Iteration 59, loss = 1.20951717\n",
      "Iteration 60, loss = 1.18661140\n",
      "Iteration 61, loss = 1.16694716\n",
      "Iteration 62, loss = 1.12321987\n",
      "Iteration 63, loss = 1.08506835\n",
      "Iteration 64, loss = 1.06476767\n",
      "Iteration 65, loss = 1.04219145\n",
      "Iteration 66, loss = 1.01412691\n",
      "Iteration 67, loss = 0.99579284\n",
      "Iteration 68, loss = 0.97195615\n",
      "Iteration 69, loss = 0.94096109\n",
      "Iteration 70, loss = 0.95695640\n",
      "Iteration 71, loss = 0.91784812\n",
      "Iteration 72, loss = 0.88922719\n",
      "Iteration 73, loss = 0.86079772\n",
      "Iteration 74, loss = 0.85420060\n",
      "Iteration 75, loss = 0.83714064\n",
      "Iteration 76, loss = 0.85841135\n",
      "Iteration 77, loss = 0.80194350\n",
      "Iteration 78, loss = 0.78679030\n",
      "Iteration 79, loss = 0.77420430\n",
      "Iteration 80, loss = 0.78200731\n",
      "Iteration 81, loss = 0.73249664\n",
      "Iteration 82, loss = 0.72045701\n",
      "Iteration 83, loss = 0.71653052\n",
      "Iteration 84, loss = 0.70831322\n",
      "Iteration 85, loss = 0.69938104\n",
      "Iteration 86, loss = 0.68237544\n",
      "Iteration 87, loss = 0.65260188\n",
      "Iteration 88, loss = 0.64975750\n",
      "Iteration 89, loss = 0.63106963\n",
      "Iteration 90, loss = 0.62673937\n",
      "Iteration 91, loss = 0.62496848\n",
      "Iteration 92, loss = 0.61955484\n",
      "Iteration 93, loss = 0.61163844\n",
      "Iteration 94, loss = 0.61638278\n",
      "Iteration 95, loss = 0.57440074\n",
      "Iteration 96, loss = 0.57611865\n",
      "Iteration 97, loss = 0.58306767\n",
      "Iteration 98, loss = 0.54744121\n",
      "Iteration 99, loss = 0.54079246\n",
      "Iteration 100, loss = 0.53401097\n",
      "\n",
      "Time to Train : 0.86777\n",
      "\n",
      "Time to Test : 0.00400519\n",
      "\n",
      "MLP with SGD Training Score: 0.9016\n",
      "MLP with SGD Test Score: 0.8686\n",
      "Confusion Matrix\n",
      " [[120   0   0   0   2   1   1   0   0   0]\n",
      " [  0  93   3   0   0   0   0   1   8   8]\n",
      " [  0   4 100   8   0   0   1   1   8   2]\n",
      " [  0   0   1  93   0   3   0   5   7  12]\n",
      " [  0   2   0   0  99   0   1   1   3   0]\n",
      " [  0   0   0   0   1 101   0   1   0  16]\n",
      " [  2   2   0   0   0   0 120   0   0   0]\n",
      " [  0   0   0   0   0   3   0 110   1   0]\n",
      " [  0  11   0   0   0   4   0   3  89   4]\n",
      " [  0   0   0   0   3   5   0  13   4 106]]\n"
     ]
    },
    {
     "name": "stderr",
     "output_type": "stream",
     "text": [
      "C:\\Users\\daniel.carpenter\\Anaconda3\\lib\\site-packages\\sklearn\\neural_network\\_multilayer_perceptron.py:614: ConvergenceWarning: Stochastic Optimizer: Maximum iterations (100) reached and the optimization hasn't converged yet.\n",
      "  warnings.warn(\n"
     ]
    }
   ],
   "source": [
    "# 4 - Multi-Linear Perceptron using SGD\n",
    "# ‘sgd’ refers to stochastic gradient descent.\n",
    "# -----------------------------------------------------------------------------\n",
    "# 0 - Import the classifer\n",
    "from sklearn.neural_network import MLPClassifier\n",
    "\n",
    "# 1. Initialize the classifier\n",
    "mlp_sgd = MLPClassifier(hidden_layer_sizes=(100,), \n",
    "                    max_iter=100, \n",
    "                    alpha=1e-4, \n",
    "                    solver=\"sgd\",\n",
    "                    verbose = 10, \n",
    "                    tol=1e-4, \n",
    "                    random_state=1, \n",
    "                    learning_rate_init=.1)\n",
    "\n",
    "# 2. Train (fit) the classifier \n",
    "start_time = startClock()\n",
    "mlp_sgd.fit(X_train, y_train)\n",
    "endClock(start_time, 'Train')\n",
    "\n",
    "# 3. Make predictions\n",
    "start_time = startClock()\n",
    "predictions = mlp_sgd.predict(X_test)\n",
    "endClock(start_time, 'Test')\n",
    "\n",
    "# 4. Evaluate accuracy\n",
    "print('\\nMLP with SGD Training Score: {:,.4f}'.format( mlp_sgd.score(X_train, y_train) ))\n",
    "print('MLP with SGD Test Score: {:,.4f}'.format( mlp_sgd.score(X_test, y_test) ))\n",
    "\n",
    "# 5. Interprest false and true positives\n",
    "expected  = y_test\n",
    "predicted = predictions\n",
    "print('Confusion Matrix\\n', sklearn.metrics.confusion_matrix(expected, predicted))\n"
   ]
  },
  {
   "cell_type": "markdown",
   "id": "cbd407b2",
   "metadata": {},
   "source": [
    "### `5` Multi-Linear Perceptron using Adam"
   ]
  },
  {
   "cell_type": "code",
   "execution_count": 14,
   "id": "50ee1c1e",
   "metadata": {},
   "outputs": [
    {
     "name": "stdout",
     "output_type": "stream",
     "text": [
      "Iteration 1, loss = 2.29738922\n",
      "Iteration 2, loss = 1.97484224\n",
      "Iteration 3, loss = 1.51150804\n",
      "Iteration 4, loss = 1.04676527\n",
      "Iteration 5, loss = 0.79868446\n",
      "Iteration 6, loss = 0.63496771\n",
      "Iteration 7, loss = 0.49448351\n",
      "Iteration 8, loss = 0.44103813\n",
      "Iteration 9, loss = 0.39629388\n",
      "Iteration 10, loss = 0.29293963\n",
      "Iteration 11, loss = 0.30757696\n",
      "Iteration 12, loss = 0.26280413\n",
      "Iteration 13, loss = 0.21901898\n",
      "Iteration 14, loss = 0.18606002\n",
      "Iteration 15, loss = 0.18404810\n",
      "Iteration 16, loss = 0.15014375\n",
      "Iteration 17, loss = 0.14196837\n",
      "Iteration 18, loss = 0.12059982\n",
      "Iteration 19, loss = 0.10531612\n",
      "Iteration 20, loss = 0.11912493\n",
      "Iteration 21, loss = 0.11964396\n",
      "Iteration 22, loss = 0.19086180\n",
      "Iteration 23, loss = 0.17033952\n",
      "Iteration 24, loss = 0.16323519\n",
      "Iteration 25, loss = 0.25410510\n",
      "Iteration 26, loss = 0.11735348\n",
      "Iteration 27, loss = 0.19711267\n",
      "Iteration 28, loss = 0.12706308\n",
      "Iteration 29, loss = 0.13207849\n",
      "Iteration 30, loss = 0.14648895\n",
      "Training loss did not improve more than tol=0.000100 for 10 consecutive epochs. Stopping.\n",
      "\n",
      "Time to Train : 0.290506\n",
      "\n",
      "Time to Test : 0.00506568\n",
      "\n",
      "MLP with Adam Training Score: 0.9836\n",
      "MLP with Adam Test Score: 0.9225\n",
      "Confusion Matrix\n",
      " [[120   0   0   0   2   1   1   0   0   0]\n",
      " [  0 107   0   0   0   0   1   0   4   1]\n",
      " [  0   1 123   0   0   0   0   0   0   0]\n",
      " [  0   0   4 103   0   4   0   0   9   1]\n",
      " [  1   2   0   0  97   0   2   0   4   0]\n",
      " [  0   0   0   0   0 117   0   0   0   2]\n",
      " [  3   1   0   0   0   0 120   0   0   0]\n",
      " [  0   3   1   0   3   2   0  95   8   2]\n",
      " [  0   5   1   0   0   1   0   0 104   0]\n",
      " [  0   6   1   0   0   4   0   0  11 109]]\n"
     ]
    }
   ],
   "source": [
    "# 5 - Multi-Linear Perceptron using Adam\n",
    "# ‘adam’ refers to a stochastic gradient-based optimizer proposed by Kingma, Diederik, and Jimmy Ba\n",
    "# -----------------------------------------------------------------------------\n",
    "# 0 - Import the classifer\n",
    "# from sklearn.neural_network import MLPClassifier # done in last MLP\n",
    "\n",
    "# 1. Initialize the classifier\n",
    "mlp_lbfgs = MLPClassifier(hidden_layer_sizes=(100,), \n",
    "                    max_iter=100, \n",
    "                    alpha=1e-4, \n",
    "                    solver=\"adam\",\n",
    "                    verbose = 10, \n",
    "                    tol=1e-4, \n",
    "                    random_state=1, \n",
    "                    learning_rate_init=.1)\n",
    "\n",
    "# 2. Train (fit) the classifier\n",
    "start_time = startClock()\n",
    "mlp_lbfgs.fit(X_train, y_train)\n",
    "endClock(start_time, 'Train')\n",
    "\n",
    "# 3. Make predictions\n",
    "start_time = startClock()\n",
    "predictions = mlp_lbfgs.predict(X_test)\n",
    "endClock(start_time, 'Test')\n",
    "\n",
    "# 4. Evaluate accuracy\n",
    "print('\\nMLP with Adam Training Score: {:,.4f}'.format( mlp_lbfgs.score(X_train, y_train) ))\n",
    "print('MLP with Adam Test Score: {:,.4f}'.format( mlp_lbfgs.score(X_test, y_test) ))\n",
    "\n",
    "# 5. Interprest false and true positives\n",
    "expected  = y_test\n",
    "predicted = predictions\n",
    "print('Confusion Matrix\\n', sklearn.metrics.confusion_matrix(expected, predicted))\n"
   ]
  },
  {
   "cell_type": "markdown",
   "id": "c0f5bf67",
   "metadata": {},
   "source": [
    "### `6` SVM (Support Vector Machine)"
   ]
  },
  {
   "cell_type": "code",
   "execution_count": 15,
   "id": "06843f9c",
   "metadata": {},
   "outputs": [
    {
     "name": "stdout",
     "output_type": "stream",
     "text": [
      "\n",
      "Time to Train : 0.0435884\n",
      "\n",
      "Time to Test : 0.206168\n",
      "\n",
      "SVM Training Score: 0.9902\n",
      "SVM Test Score: 0.9671\n",
      "Confusion Matrix\n",
      " [[123   0   0   0   1   0   0   0   0   0]\n",
      " [  0 113   0   0   0   0   0   0   0   0]\n",
      " [  0   0 124   0   0   0   0   0   0   0]\n",
      " [  0   0   1 111   0   2   0   1   5   1]\n",
      " [  0   0   0   0 103   0   0   0   3   0]\n",
      " [  0   0   0   0   0 117   1   0   0   1]\n",
      " [  0   1   0   0   0   1 122   0   0   0]\n",
      " [  0   0   0   0   0   0   0 113   1   0]\n",
      " [  0   8   0   0   0   0   0   0 102   1]\n",
      " [  0   2   0   0   0   1   0   3   5 120]]\n"
     ]
    }
   ],
   "source": [
    "# 6 - SVM (Support Vector Machine)\n",
    "# https://scikit-learn.org/stable/modules/svm.html#classification\n",
    "# -----------------------------------------------------------------------------\n",
    "\n",
    "# 0 - Import the classifer\n",
    "from sklearn import svm\n",
    "\n",
    "# 1. Initialize the classifier\n",
    "svm_model = svm.SVC()\n",
    "\n",
    "# 2. Train (fit) the classifier\n",
    "start_time = startClock()\n",
    "svm_model.fit(X_train, y_train)\n",
    "endClock(start_time, 'Train')\n",
    "\n",
    "# 3. Make predictions\n",
    "start_time = startClock()\n",
    "predictions = svm_model.predict(X_test)\n",
    "endClock(start_time, 'Test')\n",
    "\n",
    "# 4. Evaluate accuracy\n",
    "print('\\nSVM Training Score: {:,.4f}'.format( svm_model.score(X_train, y_train) ))\n",
    "print('SVM Test Score: {:,.4f}'.format( svm_model.score(X_test, y_test) ))\n",
    "\n",
    "# 5. Interprest false and true positives\n",
    "expected  = y_test\n",
    "predicted = predictions\n",
    "print('Confusion Matrix\\n', sklearn.metrics.confusion_matrix(expected, predicted))\n"
   ]
  },
  {
   "cell_type": "markdown",
   "id": "2dd1477c",
   "metadata": {},
   "source": [
    "### `7` Bayesian Ridge Regression"
   ]
  },
  {
   "cell_type": "code",
   "execution_count": 16,
   "id": "79389508",
   "metadata": {},
   "outputs": [
    {
     "name": "stdout",
     "output_type": "stream",
     "text": [
      "\n",
      "Time to Train : 0.0300879\n",
      "\n",
      "Time to Test : 0.00199938\n",
      "\n",
      "Bayesian Ridge Reg. Training Score: 0.6077\n",
      "Bayesian Ridge Reg. Test Score: 0.5438\n"
     ]
    }
   ],
   "source": [
    "# 7 - Bayesian Ridge Regression\n",
    "# https://scikit-learn.org/stable/modules/linear_model.html#bayesian-regression# -----------------------------------------------------------------------------\n",
    "\n",
    "# 0 - Import the classifer\n",
    "from sklearn import linear_model\n",
    "\n",
    "# 1. Initialize the classifier\n",
    "bayes_ridgeReg = linear_model.BayesianRidge()\n",
    "\n",
    "# 2. Train (fit) the classifier\n",
    "start_time = startClock()\n",
    "bayes_ridgeReg.fit(X_train, y_train)\n",
    "endClock(start_time, 'Train')\n",
    "\n",
    "# 3. Make predictions\n",
    "start_time = startClock()\n",
    "predictions = bayes_ridgeReg.predict(X_test)\n",
    "endClock(start_time, 'Test')\n",
    "\n",
    "# 4. Evaluate accuracy\n",
    "print('\\nBayesian Ridge Reg. Training Score: {:,.4f}'.format( bayes_ridgeReg.score(X_train, y_train) ))\n",
    "print('Bayesian Ridge Reg. Test Score: {:,.4f}'.format( bayes_ridgeReg.score(X_test, y_test) ))\n"
   ]
  },
  {
   "cell_type": "markdown",
   "id": "c1c42146",
   "metadata": {},
   "source": [
    "\n",
    "# Summary of Supervised ML Classifier Models\n",
    "### 1. Which model is the most accurate on the test set?\n",
    "* The best model was the **support vector machine model (SVM)**, which had a test score of 0.967\n",
    "\n",
    "### 2. Which model is the fastest to train?\n",
    "* The model the was the fastest to train was the **Naive Bayes**\n",
    "* Not including KNN since was both training and testing at same time\n",
    "\n",
    "### 3. Which model is the fastest to classify new data (the test set)?\n",
    "* The model that was fastest to classify new data was the **Bayesian Ridge Regression**\n",
    "* Again, not including KNN since was both training and testing at same time  \n",
    "\n",
    "    \n",
    "### 4. Which model is the best?\n",
    "* The **SVM model** proves to predict out of sample and sample data very well, which looks to be the best overall\n",
    "* Note that the the random forest model may have been better, but it appears to overfit the training data, which could be an issue for out of sample prediction.\n"
   ]
  },
  {
   "cell_type": "code",
   "execution_count": null,
   "id": "223a521c",
   "metadata": {},
   "outputs": [],
   "source": []
  }
 ],
 "metadata": {
  "kernelspec": {
   "display_name": "Python 3 (ipykernel)",
   "language": "python",
   "name": "python3"
  },
  "language_info": {
   "codemirror_mode": {
    "name": "ipython",
    "version": 3
   },
   "file_extension": ".py",
   "mimetype": "text/x-python",
   "name": "python",
   "nbconvert_exporter": "python",
   "pygments_lexer": "ipython3",
   "version": "3.9.7"
  }
 },
 "nbformat": 4,
 "nbformat_minor": 5
}
