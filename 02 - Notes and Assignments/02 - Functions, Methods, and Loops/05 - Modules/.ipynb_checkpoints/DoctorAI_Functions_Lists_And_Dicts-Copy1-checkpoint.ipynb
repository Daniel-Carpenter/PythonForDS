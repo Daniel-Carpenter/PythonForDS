{
 "cells": [
  {
   "cell_type": "markdown",
   "metadata": {
    "colab_type": "text",
    "id": "view-in-github"
   },
   "source": [
    "<a href=\"https://colab.research.google.com/github/BoomerPython/Week_2/blob/main/DSA_BoomerPython_Week2_DoctorProgram.ipynb\" target=\"_parent\"><img src=\"https://colab.research.google.com/assets/colab-badge.svg\" alt=\"Open In Colab\"/></a>"
   ]
  },
  {
   "cell_type": "code",
   "execution_count": 1,
   "metadata": {
    "id": "IXYxflh4AaXi"
   },
   "outputs": [],
   "source": [
    "## Sample notebook for exploring functions, lists, and dictionaries\n",
    "## Developed from idea of ELIZA\n",
    "## Code based on Lambert, 2019\n"
   ]
  },
  {
   "cell_type": "code",
   "execution_count": 2,
   "metadata": {
    "id": "5vnre4ImBfci"
   },
   "outputs": [],
   "source": [
    "import random"
   ]
  },
  {
   "cell_type": "markdown",
   "metadata": {},
   "source": [
    "## Doctor Response Inputs\n",
    "\n",
    "### Static Responses from the Doctor"
   ]
  },
  {
   "cell_type": "code",
   "execution_count": 3,
   "metadata": {
    "id": "OBVi41QZBive"
   },
   "outputs": [],
   "source": [
    "hedges = (\"Please tell me more.\",\n",
    "          \"Many of my patients tell me the same thing.\",\n",
    "          \"Please continue.\",\n",
    "          \"Let's put a pin in that one.\",\n",
    "          \"Can you unpack that for me.\")\n"
   ]
  },
  {
   "cell_type": "markdown",
   "metadata": {},
   "source": [
    "### Dynamic responses from the Doctor"
   ]
  },
  {
   "cell_type": "code",
   "execution_count": 4,
   "metadata": {
    "id": "bC4KpzTrB9AF"
   },
   "outputs": [],
   "source": [
    "qualifiers = (\"Why do you say \",\n",
    "              \"You seem to think that \",\n",
    "              \"Can you explain why \")\n"
   ]
  },
  {
   "cell_type": "markdown",
   "metadata": {},
   "source": [
    "### Pronouns to change from the patient's statement"
   ]
  },
  {
   "cell_type": "code",
   "execution_count": 5,
   "metadata": {
    "id": "no4vvXkICIZ_"
   },
   "outputs": [],
   "source": [
    "replacements = {\"I\":\"you\", \"me\":\"you\", \"my\":\"your\", \"My\":\"your\", \n",
    "                \"we\":\"you\", \"us\":\"you\", \"mine\":\"yours\"}\n"
   ]
  },
  {
   "cell_type": "markdown",
   "metadata": {},
   "source": [
    "## Functions\n",
    "\n",
    "### Function that Builds and returns a reply to an input sentence"
   ]
  },
  {
   "cell_type": "code",
   "execution_count": 6,
   "metadata": {
    "id": "KnYpP08xCkBM"
   },
   "outputs": [],
   "source": [
    "\n",
    "def reply(sentence):\n",
    "  probability = random.randint(1, 4)\n",
    "  if probability == 1:\n",
    "    return random.choice(hedges)\n",
    "  else:\n",
    "    return random.choice(qualifiers) + changePersons(sentence)\n"
   ]
  },
  {
   "cell_type": "markdown",
   "metadata": {},
   "source": [
    "### Function that Replaces first person pronouns with second person"
   ]
  },
  {
   "cell_type": "code",
   "execution_count": 7,
   "metadata": {
    "id": "HOPHrBLjDJWm"
   },
   "outputs": [],
   "source": [
    "## Uses the dictionary replacements\n",
    "def changePersons(sentence):\n",
    "  words = sentence.split()\n",
    "  replyWords = []\n",
    "  for word in words:\n",
    "      replyWords.append(replacements.get(word, word))\n",
    "  return \" \".join(replyWords)"
   ]
  },
  {
   "cell_type": "markdown",
   "metadata": {},
   "source": [
    "## Main Method"
   ]
  },
  {
   "cell_type": "code",
   "execution_count": null,
   "metadata": {
    "colab": {
     "base_uri": "https://localhost:8080/"
    },
    "id": "8Dxd7ifND2-1",
    "outputId": "eca730c6-914a-49e9-d9e7-92d0cacad03e"
   },
   "outputs": [
    {
     "name": "stdout",
     "output_type": "stream",
     "text": [
      "Good morning.  I hope you are well today?\n",
      "What can I do for you?\n",
      "\n",
      ">> I am really mad\n",
      "Why do you say you am really mad\n",
      "\n",
      ">> Well, I hate life!\n",
      "Why do you say Well, you hate life!\n",
      "\n",
      ">> My dog is mean\n",
      "Can you explain why your dog is mean\n",
      "\n",
      ">> She doesn't ever listen!\n",
      "Many of my patients tell me the same thing.\n",
      "\n",
      ">> Are you kidding? You have not seen this animal in action though...\n",
      "You seem to think that Are you kidding? You have not seen this animal in action though...\n",
      "\n",
      ">> Yeah, tell me about it, bub\n",
      "Can you explain why Yeah, tell you about it, bub\n"
     ]
    }
   ],
   "source": [
    "## Main function to handle the interaction between patient and doctor\n",
    "print(\"Good morning.  I hope you are well today?\")\n",
    "print(\"What can I do for you?\")\n",
    "\n",
    "def main():\n",
    "  print(\"Good morning.  I hope you are well today?\")\n",
    "  print(\"What can I do for you?\")\n",
    "while True:\n",
    "  sentence = input(\"\\n>> \")\n",
    "  if sentence.upper() == \"QUIT\":\n",
    "    print(\"Boomer Sooner!\")\n",
    "    break\n",
    "  print(reply(sentence))"
   ]
  },
  {
   "cell_type": "code",
   "execution_count": 17,
   "metadata": {
    "colab": {
     "base_uri": "https://localhost:8080/"
    },
    "id": "SO1wMALmERnC",
    "outputId": "e9422636-2ed3-4e7f-ef1f-d406956a80b0"
   },
   "outputs": [
    {
     "name": "stdout",
     "output_type": "stream",
     "text": [
      "Good morning.  I hope you are well today?\n",
      "What can I do for you?\n"
     ]
    }
   ],
   "source": [
    "main()\n"
   ]
  }
 ],
 "metadata": {
  "colab": {
   "authorship_tag": "ABX9TyM3ORpOA04EhCQkmn/tvwDg",
   "include_colab_link": true,
   "name": "DSA_BoomerPython_Week2_DoctorProgram",
   "provenance": []
  },
  "kernelspec": {
   "display_name": "Python 3 (ipykernel)",
   "language": "python",
   "name": "python3"
  },
  "language_info": {
   "codemirror_mode": {
    "name": "ipython",
    "version": 3
   },
   "file_extension": ".py",
   "mimetype": "text/x-python",
   "name": "python",
   "nbconvert_exporter": "python",
   "pygments_lexer": "ipython3",
   "version": "3.9.7"
  }
 },
 "nbformat": 4,
 "nbformat_minor": 1
}
