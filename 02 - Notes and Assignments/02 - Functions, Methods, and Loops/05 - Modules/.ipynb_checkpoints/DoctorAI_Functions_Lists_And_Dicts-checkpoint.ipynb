{
 "cells": [
  {
   "cell_type": "markdown",
   "metadata": {
    "colab_type": "text",
    "id": "view-in-github"
   },
   "source": [
    "<a href=\"https://colab.research.google.com/github/BoomerPython/Week_2/blob/main/DSA_BoomerPython_Week2_DoctorProgram.ipynb\" target=\"_parent\"><img src=\"https://colab.research.google.com/assets/colab-badge.svg\" alt=\"Open In Colab\"/></a>"
   ]
  },
  {
   "cell_type": "code",
   "execution_count": null,
   "metadata": {
    "id": "IXYxflh4AaXi"
   },
   "outputs": [],
   "source": [
    "## Sample notebook for exploring functions, lists, and dictionaries\n",
    "## Developed from idea of ELIZA\n",
    "## Code based on Lambert, 2019\n"
   ]
  },
  {
   "cell_type": "code",
   "execution_count": 1,
   "metadata": {
    "id": "5vnre4ImBfci"
   },
   "outputs": [],
   "source": [
    "import random"
   ]
  },
  {
   "cell_type": "code",
   "execution_count": 2,
   "metadata": {
    "id": "OBVi41QZBive"
   },
   "outputs": [],
   "source": [
    "hedges = (\"Please tell me more.\",\n",
    "          \"Many of my patients tell me the same thing.\",\n",
    "          \"Please continue.\",\n",
    "          \"Let's put a pin in that one.\",\n",
    "          \"Can you unpack that for me.\")\n"
   ]
  },
  {
   "cell_type": "code",
   "execution_count": 3,
   "metadata": {
    "id": "bC4KpzTrB9AF"
   },
   "outputs": [],
   "source": [
    "qualifiers = (\"Why do you say \",\n",
    "              \"You seem to think that \",\n",
    "              \"Can you explain why \")\n"
   ]
  },
  {
   "cell_type": "code",
   "execution_count": 21,
   "metadata": {
    "id": "no4vvXkICIZ_"
   },
   "outputs": [],
   "source": [
    "replacements = {\"I\":\"you\", \"me\":\"you\", \"my\":\"your\", \"My\":\"your\", \n",
    "                \"we\":\"you\", \"us\":\"you\", \"mine\":\"yours\"}\n"
   ]
  },
  {
   "cell_type": "code",
   "execution_count": 7,
   "metadata": {
    "id": "KnYpP08xCkBM"
   },
   "outputs": [],
   "source": [
    "## Builds and returns a reply to an input sentence\n",
    "\n",
    "def reply(sentence):\n",
    "  probability = random.randint(1, 4)\n",
    "  if probability == 1:\n",
    "    return random.choice(hedges)\n",
    "  else:\n",
    "    return random.choice(qualifiers) + changePersons(sentence)\n"
   ]
  },
  {
   "cell_type": "code",
   "execution_count": 8,
   "metadata": {
    "id": "HOPHrBLjDJWm"
   },
   "outputs": [],
   "source": [
    "## Replaces first person pronouns with second person\n",
    "## Uses the dictionary replacements\n",
    "\n",
    "def changePersons(sentence):\n",
    "  words = sentence.split()\n",
    "  replyWords = []\n",
    "  for word in words:\n",
    "      replyWords.append(replacements.get(word, word))\n",
    "  return \" \".join(replyWords)"
   ]
  },
  {
   "cell_type": "code",
   "execution_count": null,
   "metadata": {
    "colab": {
     "base_uri": "https://localhost:8080/"
    },
    "id": "8Dxd7ifND2-1",
    "outputId": "eca730c6-914a-49e9-d9e7-92d0cacad03e"
   },
   "outputs": [
    {
     "name": "stdout",
     "output_type": "stream",
     "text": [
      "Good morning.  I hope you are well today?\n",
      "What can I do for you?\n",
      "\n",
      ">> My mother and I do not get along\n",
      "Can you explain why your mother and you do not get along\n",
      "\n",
      ">> She always favors my sister\n",
      "Can you explain why She always favors your sister\n",
      "\n",
      ">> my dad and I get along fine\n",
      "Can you explain why your dad and you get along fine\n",
      "\n",
      ">> He helps me with my homework\n",
      "Please tell me more.\n",
      "\n",
      ">> When I need to study he asks me questions\n",
      "Why do you say When you need to study he asks you questions\n",
      "\n",
      ">> That is how he helps me with my homework\n",
      "Can you explain why That is how he helps you with your homework\n"
     ]
    }
   ],
   "source": [
    "## Main function to handle the interaction between patient and doctor\n",
    "print(\"Good morning.  I hope you are well today?\")\n",
    "print(\"What can I do for you?\")\n",
    "\n",
    "def main():\n",
    "  print(\"Good morning.  I hope you are well today?\")\n",
    "  print(\"What can I do for you?\")\n",
    "while True:\n",
    "  sentence = input(\"\\n>> \")\n",
    "  if sentence.upper() == \"QUIT\":\n",
    "    print(\"Boomer Sooner!\")\n",
    "    break\n",
    "  print(reply(sentence))"
   ]
  },
  {
   "cell_type": "code",
   "execution_count": 17,
   "metadata": {
    "colab": {
     "base_uri": "https://localhost:8080/"
    },
    "id": "SO1wMALmERnC",
    "outputId": "e9422636-2ed3-4e7f-ef1f-d406956a80b0"
   },
   "outputs": [
    {
     "name": "stdout",
     "output_type": "stream",
     "text": [
      "Good morning.  I hope you are well today?\n",
      "What can I do for you?\n"
     ]
    }
   ],
   "source": [
    "main()\n"
   ]
  }
 ],
 "metadata": {
  "colab": {
   "authorship_tag": "ABX9TyM3ORpOA04EhCQkmn/tvwDg",
   "include_colab_link": true,
   "name": "DSA_BoomerPython_Week2_DoctorProgram",
   "provenance": []
  },
  "kernelspec": {
   "display_name": "Python 3 (ipykernel)",
   "language": "python",
   "name": "python3"
  },
  "language_info": {
   "codemirror_mode": {
    "name": "ipython",
    "version": 3
   },
   "file_extension": ".py",
   "mimetype": "text/x-python",
   "name": "python",
   "nbconvert_exporter": "python",
   "pygments_lexer": "ipython3",
   "version": "3.9.7"
  }
 },
 "nbformat": 4,
 "nbformat_minor": 1
}
