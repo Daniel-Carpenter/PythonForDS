{
 "cells": [
  {
   "cell_type": "markdown",
   "id": "c2a7c5f2",
   "metadata": {},
   "source": [
    "# Week 2 - Files\n",
    "> This script provides two simple examples of writing and reading files"
   ]
  },
  {
   "cell_type": "markdown",
   "id": "fb983a32",
   "metadata": {},
   "source": [
    "## Open a file that already exists and write 500 random numbers"
   ]
  },
  {
   "cell_type": "code",
   "execution_count": 1,
   "id": "bffc1726",
   "metadata": {},
   "outputs": [],
   "source": [
    "file_loc = \"C:/Users/daniel.carpenter/OneDrive - the Chickasaw Nation/Documents/GitHub/OU-DSA/Python for DSA/02 - Notes and Assignments/02 - Functions, Methods, and Loops/03 - Read and Write Files/theOutputFile.txt\"\n",
    "\n",
    "import random\n",
    "\n",
    "# Open the files\n",
    "f = open(file_loc, 'w')\n",
    "\n",
    "# 500 lines to write to file\n",
    "for count in range(500):\n",
    "    \n",
    "    # Make a random number and generate random number\n",
    "    number = random.randint(1, 500)\n",
    "    f.write(str(number) + '\\n')\n",
    "\n",
    "f.close() # Close the output"
   ]
  },
  {
   "cell_type": "markdown",
   "id": "bf9e8c40",
   "metadata": {},
   "source": [
    "## Read the numbers in the created file, then sum up the numbers and print"
   ]
  },
  {
   "cell_type": "code",
   "execution_count": 2,
   "id": "9882e925",
   "metadata": {},
   "outputs": [
    {
     "name": "stdout",
     "output_type": "stream",
     "text": [
      "The sum of numbers from the created file is 123125\n"
     ]
    }
   ],
   "source": [
    "f = open(file_loc, 'r')\n",
    "theSum = 0\n",
    "\n",
    "# For each line in the file\n",
    "for line in f:\n",
    "    line = line.strip() # trim the whitespace of each line\n",
    "    number = int(line)  # Read as coerced int\n",
    "    theSum += number    # Cumulative sum\n",
    "\n",
    "f.close() # close the file\n",
    "\n",
    "print(\"The sum of numbers from the created file is\", theSum)"
   ]
  }
 ],
 "metadata": {
  "kernelspec": {
   "display_name": "Python 3 (ipykernel)",
   "language": "python",
   "name": "python3"
  },
  "language_info": {
   "codemirror_mode": {
    "name": "ipython",
    "version": 3
   },
   "file_extension": ".py",
   "mimetype": "text/x-python",
   "name": "python",
   "nbconvert_exporter": "python",
   "pygments_lexer": "ipython3",
   "version": "3.9.7"
  }
 },
 "nbformat": 4,
 "nbformat_minor": 5
}
