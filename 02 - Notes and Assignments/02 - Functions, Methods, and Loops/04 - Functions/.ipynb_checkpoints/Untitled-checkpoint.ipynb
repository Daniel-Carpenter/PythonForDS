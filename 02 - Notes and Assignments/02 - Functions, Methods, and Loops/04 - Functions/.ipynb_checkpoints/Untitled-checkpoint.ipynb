{
 "cells": [
  {
   "cell_type": "markdown",
   "id": "370d86cc",
   "metadata": {},
   "source": [
    "# Functions\n",
    "* This script provides two simple functions\n",
    "* The first function accepts a number and prints\n",
    "* out the OU cheer that number of times"
   ]
  },
  {
   "cell_type": "markdown",
   "id": "3441f293",
   "metadata": {},
   "source": [
    "## Basic Function (No Return)\n",
    "* Notice there is not a return on this function\n",
    "* Every function does not need a return function\n",
    "* But a function without a return does return None"
   ]
  },
  {
   "cell_type": "code",
   "execution_count": 1,
   "id": "694293df",
   "metadata": {},
   "outputs": [
    {
     "name": "stdout",
     "output_type": "stream",
     "text": [
      "How many times do you want to see the cheer? 3\n",
      "Boomer\n",
      "Sooner\n",
      "Boomer\n",
      "Sooner\n",
      "Boomer\n",
      "Sooner\n"
     ]
    }
   ],
   "source": [
    "def functionBoomer(n):\n",
    "    for i in range(n):\n",
    "        print(\"Boomer\")\n",
    "        print(\"Sooner\")\n",
    "    \n",
    "# Call it and get your input\n",
    "cheer = int(input(\"How many times do you want to see the cheer? \"))\n",
    "\n",
    "functionBoomer(cheer)"
   ]
  },
  {
   "cell_type": "markdown",
   "id": "4179a0ac",
   "metadata": {},
   "source": [
    "## Function that returns result"
   ]
  },
  {
   "cell_type": "code",
   "execution_count": 4,
   "id": "9b0debdf",
   "metadata": {
    "scrolled": true
   },
   "outputs": [
    {
     "name": "stdout",
     "output_type": "stream",
     "text": [
      "(10, 7)\n"
     ]
    }
   ],
   "source": [
    "def functionMath(x, y):\n",
    "    rtnProd = x * y\n",
    "    rtnSum  = x + y\n",
    "    return(rtnProd, rtnSum)\n",
    "\n",
    "print(functionMath(2, 5))"
   ]
  }
 ],
 "metadata": {
  "kernelspec": {
   "display_name": "Python 3 (ipykernel)",
   "language": "python",
   "name": "python3"
  },
  "language_info": {
   "codemirror_mode": {
    "name": "ipython",
    "version": 3
   },
   "file_extension": ".py",
   "mimetype": "text/x-python",
   "name": "python",
   "nbconvert_exporter": "python",
   "pygments_lexer": "ipython3",
   "version": "3.9.7"
  }
 },
 "nbformat": 4,
 "nbformat_minor": 5
}
