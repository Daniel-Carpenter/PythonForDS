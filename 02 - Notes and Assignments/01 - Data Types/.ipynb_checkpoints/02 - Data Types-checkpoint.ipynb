{
 "cells": [
  {
   "cell_type": "markdown",
   "metadata": {
    "colab_type": "text",
    "id": "view-in-github"
   },
   "source": [
    "<a href=\"https://colab.research.google.com/github/BoomerPython/Week_1/blob/main/DSA_Week1_Variables.ipynb\" target=\"_parent\"><img src=\"https://colab.research.google.com/assets/colab-badge.svg\" alt=\"Open In Colab\"/></a>"
   ]
  },
  {
   "cell_type": "markdown",
   "metadata": {
    "id": "cfUfVwbrjjiK"
   },
   "source": [
    "This file provides some practical experience with variables, operators, data types, and making programs interactive"
   ]
  },
  {
   "cell_type": "markdown",
   "metadata": {
    "id": "aYsXwDY7j-On"
   },
   "source": [
    "## Variables"
   ]
  },
  {
   "cell_type": "markdown",
   "metadata": {
    "id": "emHYZdZ-j9L2"
   },
   "source": [
    "Variables are names given to data that we need to store and manipulate in our programs."
   ]
  },
  {
   "cell_type": "code",
   "execution_count": 2,
   "metadata": {
    "colab": {
     "base_uri": "https://localhost:8080/"
    },
    "id": "GIlrTCn1jUXq",
    "outputId": "25bb1410-bb30-46df-e9b4-35be27dec142"
   },
   "outputs": [
    {
     "name": "stdout",
     "output_type": "stream",
     "text": [
      "$ 1200   Bob\n"
     ]
    }
   ],
   "source": [
    "# We can declare each variable individually\n",
    "\n",
    "coachSalary = 1200\n",
    "coachName = \"Bob\"\n",
    "print(\"$\", coachSalary, \" \", coachName)"
   ]
  },
  {
   "cell_type": "code",
   "execution_count": 3,
   "metadata": {
    "colab": {
     "base_uri": "https://localhost:8080/"
    },
    "id": "ipECgwWBjjBO",
    "outputId": "cba13db5-cf04-489a-a1f6-c0219728e14d"
   },
   "outputs": [
    {
     "name": "stdout",
     "output_type": "stream",
     "text": [
      "$ 1400   Lincoln\n"
     ]
    }
   ],
   "source": [
    "# We can declare variables collectively\n",
    "\n",
    "coachSalary, coachName = 1400, \"Lincoln\"\n",
    "print(\"$\", coachSalary, \" \", coachName)"
   ]
  },
  {
   "cell_type": "code",
   "execution_count": null,
   "metadata": {
    "id": "x2fI_3UBk4fG"
   },
   "outputs": [],
   "source": [
    "# Naming a variable\n",
    "# Best practices:  letters, numbers, underscores\n",
    "# No reserved words (like print, input, etc)\n",
    "# Names are case sensitive\n",
    "# Our convention for variables - camelCase\n",
    "# Our convention for files - under_score"
   ]
  },
  {
   "cell_type": "markdown",
   "metadata": {
    "id": "626J7Mf3kvT1"
   },
   "source": [
    "## Assignment Operators"
   ]
  },
  {
   "cell_type": "code",
   "execution_count": 5,
   "metadata": {
    "colab": {
     "base_uri": "https://localhost:8080/"
    },
    "id": "jLc82j3Ik7di",
    "outputId": "2d20b046-14a6-4477-e714-5728e91c4fd0"
   },
   "outputs": [
    {
     "name": "stdout",
     "output_type": "stream",
     "text": [
      "x =  5\n",
      "y =  5\n"
     ]
    }
   ],
   "source": [
    "# Basic assignment operations\n",
    "\n",
    "x = 5\n",
    "y = 10\n",
    "x = y\n",
    "# y = x   # what is the difference here?\n",
    "print (\"x = \", x)\n",
    "print (\"y = \", y)"
   ]
  },
  {
   "cell_type": "markdown",
   "metadata": {
    "id": "pem0Hjp2kEkn"
   },
   "source": [
    "# Data Types"
   ]
  },
  {
   "cell_type": "markdown",
   "metadata": {
    "id": "8gcJFRUlle7i"
   },
   "source": [
    "# Lists"
   ]
  },
  {
   "cell_type": "code",
   "execution_count": 6,
   "metadata": {
    "colab": {
     "base_uri": "https://localhost:8080/"
    },
    "id": "6Za8yT21loYx",
    "outputId": "0865e2c6-bb3c-4a5a-a2e7-17ce3d71662e"
   },
   "outputs": [
    {
     "name": "stdout",
     "output_type": "stream",
     "text": [
      "[1, 2, 3, 4, 5, 'Lincoln']\n",
      "3\n",
      "Lincoln\n"
     ]
    }
   ],
   "source": [
    "# Declare the list\n",
    "# List elements can be different data types\n",
    "\n",
    "myList = [1, 2, 3, 4, 5, \"Lincoln\"]\n",
    "print(myList)\n",
    "\n",
    "# print the third item\n",
    "# you should get a 3\n",
    "print(myList[2])\n",
    "\n",
    "#print the last item\n",
    "# you should get \"Lincoln\"\n",
    "print(myList[-1])"
   ]
  },
  {
   "cell_type": "markdown",
   "metadata": {
    "id": "KEDoCcc3ljYh"
   },
   "source": [
    "# Tuple"
   ]
  },
  {
   "cell_type": "code",
   "execution_count": 1,
   "metadata": {
    "id": "2c-Y5mA8kLV-"
   },
   "outputs": [],
   "source": [
    "# Tuples are like lists but we cannot modify their\n",
    "# values.\n",
    "# Good for things that will not change - like monthss\n",
    "# of year\n",
    "\n",
    "monthsOfYear = (\"Jan\", \"Feb\", \"Mar\", \"Apr\",\n",
    "                \"May\", \"Jun\", \"Jul\", \"Aug\",\n",
    "                \"Sep\", \"Oct\", \"Nov\", \"Dec\")"
   ]
  },
  {
   "cell_type": "code",
   "execution_count": 2,
   "metadata": {
    "colab": {
     "base_uri": "https://localhost:8080/",
     "height": 35
    },
    "id": "-LsubR8snXgI",
    "outputId": "c7e39383-0244-4e63-d4c2-5c8a2999a618"
   },
   "outputs": [
    {
     "data": {
      "application/vnd.google.colaboratory.intrinsic+json": {
       "type": "string"
      },
      "text/plain": [
       "'Jun'"
      ]
     },
     "execution_count": 2,
     "metadata": {
      "tags": []
     },
     "output_type": "execute_result"
    }
   ],
   "source": [
    "# You can access just like a list - with the index\n",
    "\n",
    "monthsOfYear[5]\n"
   ]
  },
  {
   "cell_type": "code",
   "execution_count": 3,
   "metadata": {
    "colab": {
     "base_uri": "https://localhost:8080/",
     "height": 35
    },
    "id": "LI2JotJwnjop",
    "outputId": "a5ddd191-ca86-4c42-a51a-7dcd5445efe9"
   },
   "outputs": [
    {
     "data": {
      "application/vnd.google.colaboratory.intrinsic+json": {
       "type": "string"
      },
      "text/plain": [
       "'Dec'"
      ]
     },
     "execution_count": 3,
     "metadata": {
      "tags": []
     },
     "output_type": "execute_result"
    }
   ],
   "source": [
    "monthsOfYear[-1]"
   ]
  },
  {
   "cell_type": "markdown",
   "metadata": {
    "id": "iVYCNptYnp4N"
   },
   "source": [
    "# Dictionary"
   ]
  },
  {
   "cell_type": "markdown",
   "metadata": {
    "id": "pEC4RvoHn0fm"
   },
   "source": [
    "Dictionary is a collection of related data PAIRS\n",
    "\n",
    "To declare a dictionary, your write:"
   ]
  },
  {
   "cell_type": "code",
   "execution_count": 4,
   "metadata": {
    "id": "msZFWYcantG-"
   },
   "outputs": [],
   "source": [
    "myCoaches = {\"Barry\":600, \"Gary\":700, \"Howard\":800}"
   ]
  },
  {
   "cell_type": "code",
   "execution_count": 8,
   "metadata": {
    "colab": {
     "base_uri": "https://localhost:8080/"
    },
    "id": "wi3zXctJoiOZ",
    "outputId": "6669fcf3-3ea9-4bd5-ec34-6986c9efc456"
   },
   "outputs": [
    {
     "name": "stdout",
     "output_type": "stream",
     "text": [
      "{'Barry': 600, 'Gary': 700, 'Howard': 800, 'John': 'Do we acknowledge him'}\n"
     ]
    }
   ],
   "source": [
    "print(myCoaches)"
   ]
  },
  {
   "cell_type": "code",
   "execution_count": 7,
   "metadata": {
    "id": "8A3yM3zVou38"
   },
   "outputs": [],
   "source": [
    "myCoaches[\"John\"] = \"Do we acknowledge him\""
   ]
  },
  {
   "cell_type": "code",
   "execution_count": 9,
   "metadata": {
    "id": "bWUptEfBpDau"
   },
   "outputs": [],
   "source": [
    "del myCoaches[\"John\"]"
   ]
  },
  {
   "cell_type": "code",
   "execution_count": 10,
   "metadata": {
    "colab": {
     "base_uri": "https://localhost:8080/"
    },
    "id": "lqO6jf1PpKg0",
    "outputId": "5ac356c7-4ee4-40cf-d398-95335c4afcd0"
   },
   "outputs": [
    {
     "name": "stdout",
     "output_type": "stream",
     "text": [
      "{'Barry': 600, 'Gary': 700, 'Howard': 800}\n"
     ]
    }
   ],
   "source": [
    "print(myCoaches)"
   ]
  }
 ],
 "metadata": {
  "colab": {
   "authorship_tag": "ABX9TyO2YRXz6u2uDLbOXM0J/tgh",
   "collapsed_sections": [],
   "include_colab_link": true,
   "name": "DSA_Week1_Variables.ipynb",
   "provenance": []
  },
  "kernelspec": {
   "display_name": "Python 3 (ipykernel)",
   "language": "python",
   "name": "python3"
  },
  "language_info": {
   "codemirror_mode": {
    "name": "ipython",
    "version": 3
   },
   "file_extension": ".py",
   "mimetype": "text/x-python",
   "name": "python",
   "nbconvert_exporter": "python",
   "pygments_lexer": "ipython3",
   "version": "3.9.7"
  }
 },
 "nbformat": 4,
 "nbformat_minor": 1
}
