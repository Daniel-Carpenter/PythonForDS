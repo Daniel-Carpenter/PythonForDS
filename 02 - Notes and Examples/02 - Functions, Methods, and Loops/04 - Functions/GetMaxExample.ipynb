{
 "cells": [
  {
   "cell_type": "markdown",
   "id": "b7614ac9",
   "metadata": {},
   "source": [
    "## Get the max of a list"
   ]
  },
  {
   "cell_type": "code",
   "execution_count": 1,
   "id": "a1c20747",
   "metadata": {},
   "outputs": [
    {
     "name": "stdout",
     "output_type": "stream",
     "text": [
      "99\n"
     ]
    }
   ],
   "source": [
    "from functools import *\n",
    "\n",
    "print(reduce(max, [34, 21, 99, 67, 10]))"
   ]
  }
 ],
 "metadata": {
  "kernelspec": {
   "display_name": "Python 3 (ipykernel)",
   "language": "python",
   "name": "python3"
  },
  "language_info": {
   "codemirror_mode": {
    "name": "ipython",
    "version": 3
   },
   "file_extension": ".py",
   "mimetype": "text/x-python",
   "name": "python",
   "nbconvert_exporter": "python",
   "pygments_lexer": "ipython3",
   "version": "3.9.7"
  }
 },
 "nbformat": 4,
 "nbformat_minor": 5
}
